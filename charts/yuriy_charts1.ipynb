max_n = 30
x=[]
y=[]
z=[]
n_days = 7
now = datetime.now(tz=tz.gettz('UTC'))
start_date = (now - timedelta(days = n_days))
start_date = pd.Timestamp(start_date)
daily_ratings = skills_ratings[skills_ratings['date'] >= start_date]
count = daily_ratings.groupby(['n_turns','rating']).count()['date']
for i in range(1,max_n):
    for j in (count[i].keys()):
#        if count[i][j] // i > 0:
        x.append(i)
        y.append(j)
        z.append(count[i][j]//i)
rating_by_n_turns_fig = go.Figure(data=[go.Scatter(
    x=x,
    y=y,
    mode='markers',
    marker=dict(
        size=[j / 1.5 for j in z],
        ),
    customdata=z,
    hovertemplate = '%{y:.2f}: count: %{customdata}',
    name='Rating by n_utt'
)])
rating_by_n_turns_fig.update_layout(title='Rating by n_turns for last {:d} days'.format(n_days), showlegend=False, height=500, width=1300)
rating_by_n_turns_fig['layout']['yaxis']['range'] = [0.1, 5.9]
rating_by_n_turns_fig['layout']['xaxis']['title'] = {'text': 'n_turns'}
rating_by_n_turns_fig['layout']['yaxis']['title'] = {'text': 'rating'}
rating_by_n_turns_fig.show()